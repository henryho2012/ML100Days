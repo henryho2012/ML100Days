{
 "cells": [
  {
   "cell_type": "markdown",
   "metadata": {},
   "source": [
    "### 作業目的: 使用樹型模型進行文章分類\n",
    "\n",
    "本次作業主利用[Amazon Review data中的All Beauty](https://nijianmo.github.io/amazon/index.html)來進行review評價分類(文章分類)\n",
    "\n",
    "資料中將review分為1,2,3,4,5分，而在這份作業，我們將評論改分為差評價、普通評價、優良評價(1,2-->1差評、3-->2普通評價、4,5-->3優良評價)"
   ]
  },
  {
   "cell_type": "markdown",
   "metadata": {},
   "source": [
    "### 載入套件"
   ]
  },
  {
   "cell_type": "code",
   "execution_count": 1,
   "metadata": {},
   "outputs": [],
   "source": [
    "import json\n",
    "import re\n",
    "from sklearn.tree import DecisionTreeClassifier\n",
    "from sklearn.ensemble import AdaBoostClassifier, RandomForestClassifier\n",
    "from sklearn.metrics import classification_report, confusion_matrix\n",
    "from sklearn.model_selection import train_test_split\n",
    "from sklearn.feature_extraction.text import CountVectorizer, TfidfVectorizer, TfidfTransformer"
   ]
  },
  {
   "cell_type": "markdown",
   "metadata": {},
   "source": [
    "### 資料前處理\n",
    "文本資料較為龐大，這裡我們取前10000筆資料來進行作業練習"
   ]
  },
  {
   "cell_type": "code",
   "execution_count": 3,
   "metadata": {},
   "outputs": [
    {
     "data": {
      "text/plain": [
       "{'overall': 5.0,\n",
       " 'verified': True,\n",
       " 'reviewTime': '09 1, 2016',\n",
       " 'reviewerID': 'A3CIUOJXQ5VDQ2',\n",
       " 'asin': 'B0000530HU',\n",
       " 'style': {'Size:': ' 7.0 oz', 'Flavor:': ' Classic Ice Blue'},\n",
       " 'reviewerName': 'Shelly F',\n",
       " 'reviewText': 'As advertised. Reasonably priced',\n",
       " 'summary': 'Five Stars',\n",
       " 'unixReviewTime': 1472688000}"
      ]
     },
     "execution_count": 3,
     "metadata": {},
     "output_type": "execute_result"
    }
   ],
   "source": [
    "#load json data\n",
    "all_reviews = []\n",
    "with open(\"./All_Beauty.json\", \"r\") as f:\n",
    "    for review in f:\n",
    "        all_reviews.append(json.loads(review))\n",
    "        \n",
    "all_reviews[0]"
   ]
  },
  {
   "cell_type": "code",
   "execution_count": 4,
   "metadata": {},
   "outputs": [],
   "source": [
    "#parse label(overall) and corpus(reviewText)\n",
    "corpus = []\n",
    "labels = []\n",
    "\n",
    "for review in all_reviews[:10000]:\n",
    "    if review.get(\"reviewText\", False) and review.get(\"overall\", False):\n",
    "        corpus.append(review[\"reviewText\"])\n",
    "        labels.append(review[\"overall\"])\n",
    "        \n",
    "#transform labels: 1,2 --> 1 and 3 --> 2 and 4,5 --> 3\n",
    "for i, label in enumerate(labels):\n",
    "    if label == 1 or label == 2:\n",
    "        labels[i] = 1\n",
    "    elif label == 3:\n",
    "        labels[i] = 2\n",
    "    else:\n",
    "        labels[i] = 3"
   ]
  },
  {
   "cell_type": "code",
   "execution_count": 5,
   "metadata": {},
   "outputs": [],
   "source": [
    "#preprocessing data\n",
    "#remove email address, punctuations, and change line symbol(\\n)\n",
    "\n",
    "pattern = r\"\\S*@\\S*|\\\\n|[^a-zA-Z0-9 ]\"\n",
    "\n",
    "for i, review in enumerate(corpus):\n",
    "    fil_review = [w for w in re.sub(pattern, \" \", review).split(\" \") if w != \"\"]\n",
    "    corpus[i] = \" \".join(fil_review)"
   ]
  },
  {
   "cell_type": "code",
   "execution_count": 6,
   "metadata": {},
   "outputs": [
    {
     "data": {
      "text/plain": [
       "(4211, 1053, 4211, 1053)"
      ]
     },
     "execution_count": 6,
     "metadata": {},
     "output_type": "execute_result"
    }
   ],
   "source": [
    "#split corpus and label into train and test\n",
    "x_train, x_test, y_train, y_test = train_test_split(corpus, labels, test_size=0.2, random_state=0)\n",
    "\n",
    "len(x_train), len(x_test), len(y_train), len(y_test)"
   ]
  },
  {
   "cell_type": "code",
   "execution_count": 7,
   "metadata": {},
   "outputs": [],
   "source": [
    "#change corpus into vector\n",
    "#you can use tfidf or BoW here\n",
    "\n",
    "tfidf_vec = TfidfVectorizer()\n",
    "tfidf_vec.fit(x_train)\n",
    "\n",
    "#transform training and testing corpus into vector form\n",
    "x_train = tfidf_vec.transform(x_train).toarray()\n",
    "x_test = tfidf_vec.transform(x_test).toarray()"
   ]
  },
  {
   "cell_type": "markdown",
   "metadata": {},
   "source": [
    "### 訓練與預測"
   ]
  },
  {
   "cell_type": "code",
   "execution_count": 8,
   "metadata": {},
   "outputs": [
    {
     "data": {
      "text/plain": [
       "DecisionTreeClassifier(max_depth=6)"
      ]
     },
     "execution_count": 8,
     "metadata": {},
     "output_type": "execute_result"
    }
   ],
   "source": [
    "#build classification model (decision tree, random forest, or adaboost)\n",
    "#start training\n",
    "\n",
    "tree = DecisionTreeClassifier(max_depth=6, min_samples_split=2)\n",
    "tree.fit(x_train, y_train)"
   ]
  },
  {
   "cell_type": "code",
   "execution_count": 9,
   "metadata": {},
   "outputs": [],
   "source": [
    "#start inference\n",
    "y_pred = tree.predict(x_test)"
   ]
  },
  {
   "cell_type": "code",
   "execution_count": 10,
   "metadata": {},
   "outputs": [
    {
     "name": "stdout",
     "output_type": "stream",
     "text": [
      "Accuracy: 0.976258309591643\n"
     ]
    }
   ],
   "source": [
    "#calculate accuracy\n",
    "print(f\"Accuracy: {tree.score(x_test,y_test)}\")"
   ]
  },
  {
   "cell_type": "code",
   "execution_count": 11,
   "metadata": {},
   "outputs": [
    {
     "name": "stdout",
     "output_type": "stream",
     "text": [
      "              precision    recall  f1-score   support\n",
      "\n",
      "           1       0.91      0.70      0.79        30\n",
      "           2       1.00      0.07      0.12        15\n",
      "           3       0.98      1.00      0.99      1008\n",
      "\n",
      "    accuracy                           0.98      1053\n",
      "   macro avg       0.96      0.59      0.64      1053\n",
      "weighted avg       0.98      0.98      0.97      1053\n",
      "\n",
      "[[  21    0    9]\n",
      " [   0    1   14]\n",
      " [   2    0 1006]]\n"
     ]
    }
   ],
   "source": [
    "#calculate confusion matrix, precision, recall, and f1-score\n",
    "print(classification_report(y_test, y_pred))\n",
    "print(confusion_matrix(y_test, y_pred))"
   ]
  },
  {
   "cell_type": "markdown",
   "metadata": {},
   "source": [
    "由上述資訊可以發現, 模型在好評的準確度高(precision, recall都高), 而在差評的部分表現較不理想, 在普通評價的部分大部分跟差評搞混,\n",
    "同學可以試著學習到的各種方法來提升模型的表現"
   ]
  },
  {
   "cell_type": "code",
   "execution_count": null,
   "metadata": {},
   "outputs": [],
   "source": []
  }
 ],
 "metadata": {
  "kernelspec": {
   "display_name": "Python [conda env:root] *",
   "language": "python",
   "name": "conda-root-py"
  },
  "language_info": {
   "codemirror_mode": {
    "name": "ipython",
    "version": 3
   },
   "file_extension": ".py",
   "mimetype": "text/x-python",
   "name": "python",
   "nbconvert_exporter": "python",
   "pygments_lexer": "ipython3",
   "version": "3.7.3"
  }
 },
 "nbformat": 4,
 "nbformat_minor": 2
}
